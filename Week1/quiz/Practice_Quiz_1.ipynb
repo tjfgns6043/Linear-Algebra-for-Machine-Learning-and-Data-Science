{
 "cells": [
  {
   "cell_type": "markdown",
   "metadata": {},
   "source": [
    "1.\n",
    "Question 1\n",
    "A scientist has six objects, three of type X and three of type Y, and wants to determine the weight of each type. The scientist decided to perform two weighings:\n",
    "\n",
    "1. She weighs three X objects and one Y object and gets a total weight of 1100 grams.\n",
    "\n",
    "2. She weighs one X object and three Y objects and gets a total weight of 1050 grams.\n",
    "\n",
    "Which of the following linear systems describes the experiment above?"
   ]
  },
  {
   "cell_type": "code",
   "execution_count": null,
   "metadata": {
    "vscode": {
     "languageId": "plaintext"
    }
   },
   "outputs": [],
   "source": [
    "ANSWER:\n",
    "3X + Y = 1100\n",
    "X + 3Y = 1050"
   ]
  },
  {
   "cell_type": "markdown",
   "metadata": {},
   "source": [
    "2.\n",
    "Question 2\n",
    "Which of the following matrices can be used to determine the singularity of the system of equations below?\n",
    "{2x + 3y = 15}\n",
    "{2x + 4y = 16}"
   ]
  },
  {
   "cell_type": "code",
   "execution_count": null,
   "metadata": {
    "vscode": {
     "languageId": "plaintext"
    }
   },
   "outputs": [],
   "source": [
    "ANSWER:\n",
    "[2 3]\n",
    "[2 4]"
   ]
  },
  {
   "cell_type": "markdown",
   "metadata": {},
   "source": [
    "Question 3\n",
    "Consider the next three plots below.\n",
    "\n",
    "Plot1 is parallel, Plot2 is cross, Plot3 is line\n",
    "\n",
    "Now, consider the next three system of equations below.\n",
    "\n",
    "System 1\n",
    "{\n",
    "3x - 2y = 1\n",
    "x + y = 3\n",
    "}\n",
    "\n",
    "System 2\n",
    "{\n",
    "3x + 3y = 2\n",
    "9x + 9y = 6\n",
    "}\n",
    "\n",
    "System 3\n",
    "{\n",
    "x + 3y = 4\n",
    "x + 3y = 3\n",
    "}"
   ]
  },
  {
   "cell_type": "code",
   "execution_count": null,
   "metadata": {
    "vscode": {
     "languageId": "plaintext"
    }
   },
   "outputs": [],
   "source": [
    "ANSWER:\n",
    "Plot1 represents System 3\n",
    "Plot2 represents System 1\n",
    "Plot3 represents System 2"
   ]
  }
 ],
 "metadata": {
  "language_info": {
   "name": "python"
  }
 },
 "nbformat": 4,
 "nbformat_minor": 2
}
